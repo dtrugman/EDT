{
 "cells": [
  {
   "cell_type": "code",
   "execution_count": null,
   "metadata": {},
   "outputs": [],
   "source": [
    "import numpy as np\n",
    "import pandas as pd\n",
    "\n",
    "df = pd.read_csv('data/data_ellsberg.csv')"
   ]
  },
  {
   "cell_type": "code",
   "execution_count": null,
   "metadata": {},
   "outputs": [],
   "source": [
    "df['Sex'] = np.where(df['Sex'] == 'Male', 0, 1)\n",
    "\n",
    "csv_columns = ['ID', 'participant_id']\n",
    "table_columns = ['Sex','Openness','Conscientiousness','Extroversion','Agreeability','Stability','Locus']\n",
    "daa_columns = ['DAA']\n",
    "df = df[csv_columns + table_columns + daa_columns]\n",
    "\n",
    "not_daa_df = df.loc[df['DAA'] == 0].drop(columns=daa_columns)\n",
    "not_daa_df = not_daa_df[table_columns]\n",
    "\n",
    "daa_df = df.loc[df['DAA'] == 1].drop(columns=daa_columns)\n",
    "daa_df = daa_df[table_columns]"
   ]
  },
  {
   "cell_type": "code",
   "execution_count": null,
   "metadata": {},
   "outputs": [],
   "source": [
    "all_df = df[table_columns]\n",
    "all_mean = all_df.mean(axis=0)\n",
    "all_std = all_df.std(axis=0)\n",
    "\n",
    "not_daa_mean = not_daa_df.mean(axis=0)\n",
    "not_daa_std = not_daa_df.std(axis=0)\n",
    "\n",
    "daa_mean = daa_df.mean(axis=0)\n",
    "daa_std = daa_df.std(axis=0)"
   ]
  },
  {
   "cell_type": "code",
   "execution_count": null,
   "metadata": {},
   "outputs": [],
   "source": [
    "def to_table(not_daa, daa):\n",
    "    summary = pd.concat([not_daa, daa], axis=1)\n",
    "    summary = summary.T\n",
    "    summary.index = ['notDAA', 'DAA']\n",
    "    return summary\n",
    "\n",
    "def to_summary(mean, std):\n",
    "    values = zip(mean.index, mean, std)\n",
    "    for i, m, s in values:\n",
    "        print(f'{i}: {m:.3f}({s:.3f})')\n"
   ]
  },
  {
   "cell_type": "code",
   "execution_count": null,
   "metadata": {},
   "outputs": [],
   "source": [
    "to_summary(all_mean, all_std)"
   ]
  },
  {
   "cell_type": "code",
   "execution_count": null,
   "metadata": {},
   "outputs": [],
   "source": [
    "to_summary(not_daa_mean, not_daa_std)"
   ]
  },
  {
   "cell_type": "code",
   "execution_count": null,
   "metadata": {},
   "outputs": [],
   "source": [
    "to_summary(daa_mean, daa_std)"
   ]
  }
 ],
 "metadata": {
  "kernelspec": {
   "display_name": "env",
   "language": "python",
   "name": "python3"
  },
  "language_info": {
   "codemirror_mode": {
    "name": "ipython",
    "version": 3
   },
   "file_extension": ".py",
   "mimetype": "text/x-python",
   "name": "python",
   "nbconvert_exporter": "python",
   "pygments_lexer": "ipython3",
   "version": "3.10.4"
  },
  "orig_nbformat": 4
 },
 "nbformat": 4,
 "nbformat_minor": 2
}
