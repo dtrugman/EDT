{
 "cells": [
  {
   "cell_type": "code",
   "execution_count": null,
   "metadata": {},
   "outputs": [],
   "source": [
    "import pandas as pd\n",
    "from sklearn.metrics import silhouette_score\n",
    "from sklearn.cluster import KMeans\n",
    "import matplotlib.pyplot as plt\n",
    "\n",
    "df = pd.read_csv('data/data_ellsberg.csv')"
   ]
  },
  {
   "cell_type": "code",
   "execution_count": null,
   "metadata": {},
   "outputs": [],
   "source": [
    "emotions = [\n",
    "    'Hopeful', \n",
    "    'Curiosity', \n",
    "    'Enlightenment',\n",
    "    'Thrilled', \n",
    "    'Anticipatory',\n",
    "    'Satisfied'\n",
    "]\n",
    "\n",
    "x_labels = []\n",
    "emotions_cols = []\n",
    "for x in ['1A', '1B', '2A', '2B']:\n",
    "    emotions_cols += [f'{emotion}{x}' for emotion in emotions]\n",
    "    x_labels.append([f'{emotion[:4]}{x}' for emotion in emotions])\n",
    "\n",
    "df = df[emotions_cols]"
   ]
  },
  {
   "cell_type": "code",
   "execution_count": null,
   "metadata": {},
   "outputs": [],
   "source": [
    "K = 2\n",
    "K_range = range(2, 11)\n",
    "distance_metric='euclidean'"
   ]
  },
  {
   "cell_type": "code",
   "execution_count": null,
   "metadata": {},
   "outputs": [],
   "source": [
    "def calc_silhouette(df, preds):\n",
    "    return silhouette_score(df, preds, metric=distance_metric)"
   ]
  },
  {
   "cell_type": "code",
   "execution_count": null,
   "metadata": {},
   "outputs": [],
   "source": [
    "def build_kmeans(points, k):\n",
    "    clusterer = KMeans(n_clusters=k, n_init='auto')\n",
    "    preds = clusterer.fit_predict(points)\n",
    "    return clusterer, preds"
   ]
  },
  {
   "cell_type": "code",
   "execution_count": null,
   "metadata": {},
   "outputs": [],
   "source": [
    "import numpy as np\n",
    "\n",
    "def show_results(clusterer, k, plot_graph=False):\n",
    "    print('labels:', clusterer.labels_, '\\n') \n",
    "    centers = clusterer.cluster_centers_\n",
    "\n",
    "    print('centroids:')\n",
    "    for i in range(k):\n",
    "        print(i,':',centers[i,:],'\\n')\n",
    "\n",
    "    if plot_graph:\n",
    "        games_count = len(x_labels)\n",
    "        labels_count = len(emotions)\n",
    "        _, axs = plt.subplots(games_count, figsize=(10, 10))\n",
    "        for ig in range(games_count):\n",
    "            graph_labels = x_labels[ig]\n",
    "            graph_centers = centers[:,ig*labels_count:(ig+1)*labels_count]\n",
    "            for ik in range(k):\n",
    "                axs[ig].plot(graph_labels, graph_centers[ik,:], label=f'Cluster #{ik}')\n",
    "            axs[ig].legend(loc='upper right')"
   ]
  },
  {
   "cell_type": "code",
   "execution_count": null,
   "metadata": {},
   "outputs": [],
   "source": [
    "clusterer, preds = build_kmeans(df, K)\n",
    "show_results(clusterer, K, plot_graph=True)\n",
    "calc_silhouette(df, preds)"
   ]
  },
  {
   "cell_type": "code",
   "execution_count": null,
   "metadata": {},
   "outputs": [],
   "source": [
    "sils = []\n",
    "for k in K_range:\n",
    "    clusterer, preds = build_kmeans(df, k)\n",
    "    sils.append(calc_silhouette(df, preds))\n",
    "\n",
    "plt.plot(K_range, sils, 'bx-')\n",
    "plt.xlabel('k')\n",
    "plt.ylabel('silheuettes')\n",
    "#plt.title('Sillheuette score per number of clusters (k)')\n",
    "plt.show()\n",
    "\n",
    "# Typically, mean silhouette over 0.6 is considered a \"good\" clustering solution\n"
   ]
  }
 ],
 "metadata": {
  "kernelspec": {
   "display_name": "env",
   "language": "python",
   "name": "python3"
  },
  "language_info": {
   "codemirror_mode": {
    "name": "ipython",
    "version": 3
   },
   "file_extension": ".py",
   "mimetype": "text/x-python",
   "name": "python",
   "nbconvert_exporter": "python",
   "pygments_lexer": "ipython3",
   "version": "3.10.4"
  },
  "orig_nbformat": 4
 },
 "nbformat": 4,
 "nbformat_minor": 2
}
