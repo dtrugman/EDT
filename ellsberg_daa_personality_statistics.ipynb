{
 "cells": [
  {
   "cell_type": "code",
   "execution_count": null,
   "metadata": {},
   "outputs": [],
   "source": [
    "import numpy as np\n",
    "import pandas as pd\n",
    "\n",
    "from kmeans import KMeans\n",
    "from pca import print_pca, print_nmf\n",
    "\n",
    "from data_common import EMOTIONS_FEATURES, PERSONALITY_FEATURES, DAA, SEX\n",
    "\n",
    "df = pd.read_csv('data/data_ellsberg.csv')"
   ]
  },
  {
   "cell_type": "code",
   "execution_count": null,
   "metadata": {},
   "outputs": [],
   "source": [
    "df['Sex'] = np.where(df['Sex'] == 'Male', 0, 1)\n",
    "\n",
    "df = df[PERSONALITY_FEATURES + EMOTIONS_FEATURES + [DAA, SEX]]\n",
    "\n",
    "not_daa_df = df.loc[df[DAA] == 0]\n",
    "not_daa_df = not_daa_df[PERSONALITY_FEATURES + EMOTIONS_FEATURES + [SEX]]\n",
    "\n",
    "daa_df = df.loc[df[DAA] == 1]\n",
    "daa_df = daa_df[PERSONALITY_FEATURES + EMOTIONS_FEATURES + [SEX]]"
   ]
  },
  {
   "cell_type": "code",
   "execution_count": null,
   "metadata": {},
   "outputs": [],
   "source": [
    "all_mean = df.mean(axis=0)\n",
    "all_std = df.std(axis=0)\n",
    "\n",
    "not_daa_mean = not_daa_df.mean(axis=0)\n",
    "not_daa_std = not_daa_df.std(axis=0)\n",
    "\n",
    "daa_mean = daa_df.mean(axis=0)\n",
    "daa_std = daa_df.std(axis=0)"
   ]
  },
  {
   "cell_type": "code",
   "execution_count": null,
   "metadata": {},
   "outputs": [],
   "source": [
    "def to_table(not_daa, daa):\n",
    "    summary = pd.concat([not_daa, daa], axis=1)\n",
    "    summary = summary.T\n",
    "    summary.index = ['notDAA', 'DAA']\n",
    "    return summary\n",
    "\n",
    "def to_summary(all_mean, all_std, not_daa_mean, not_daa_std, daa_mean, daa_std):\n",
    "    diff = ((daa_mean - not_daa_mean) / daa_mean) * 100\n",
    "    values = zip(all_mean.index, all_mean, all_std, not_daa_mean, not_daa_std, daa_mean, daa_std, diff)\n",
    "    for i, alm, als, ndm, nds, dm, ds, df in values:\n",
    "        print(f'{i:20} {alm:6.3f}({als:5.3f})\\t\\t{ndm:6.3f}({nds:5.3f})\\t\\t{dm:6.3f}({ds:5.3f})\\t\\t{df:6.2f}%')\n",
    "\n",
    "to_summary(all_mean, all_std, not_daa_mean, not_daa_std, daa_mean, daa_std)"
   ]
  },
  {
   "cell_type": "code",
   "execution_count": null,
   "metadata": {},
   "outputs": [],
   "source": [
    "person_km = KMeans(df, 1, features=PERSONALITY_FEATURES, random_state=69)\n",
    "print_pca(df, person_km.features, person_km.labels)\n",
    "print_nmf(df, person_km.features, person_km.labels)"
   ]
  },
  {
   "cell_type": "code",
   "execution_count": null,
   "metadata": {},
   "outputs": [],
   "source": [
    "emotions_km = KMeans(df, 1, features=EMOTIONS_FEATURES, random_state=69)\n",
    "print_pca(df, emotions_km.features, emotions_km.labels)\n",
    "print_nmf(df, emotions_km.features, emotions_km.labels)"
   ]
  }
 ],
 "metadata": {
  "kernelspec": {
   "display_name": "env",
   "language": "python",
   "name": "python3"
  },
  "language_info": {
   "codemirror_mode": {
    "name": "ipython",
    "version": 3
   },
   "file_extension": ".py",
   "mimetype": "text/x-python",
   "name": "python",
   "nbconvert_exporter": "python",
   "pygments_lexer": "ipython3",
   "version": "3.10.4"
  },
  "orig_nbformat": 4
 },
 "nbformat": 4,
 "nbformat_minor": 2
}
