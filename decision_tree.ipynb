{
 "cells": [
  {
   "cell_type": "code",
   "execution_count": null,
   "metadata": {},
   "outputs": [],
   "source": [
    "import pandas as pd\n",
    "from sklearn.model_selection import train_test_split\n",
    "from sklearn.tree import export_graphviz, DecisionTreeClassifier\n",
    "from subprocess import check_call\n",
    "\n",
    "#paradox = 'ellsberg'\n",
    "paradox = 'allais'\n",
    "df = pd.read_csv(f'data/data_{paradox}.csv')"
   ]
  },
  {
   "cell_type": "code",
   "execution_count": null,
   "metadata": {},
   "outputs": [],
   "source": [
    "emotions = [\n",
    "    'Hopeful', \n",
    "    'Curiosity', \n",
    "    'Enlightenment',\n",
    "    'Thrilled', \n",
    "    'Anticipatory',\n",
    "    'Satisfied'\n",
    "]\n",
    "\n",
    "emotions_cols = []\n",
    "for x in ['1A', '1B', '2A', '2B']:\n",
    "    emotions_cols += [f'{emotion}{x}' for emotion in emotions]\n",
    "    \n",
    "big5_cols = ['Openness', 'Conscientiousness', 'Extroversion', 'Agreeability', 'Stability']\n",
    "\n",
    "csv_cols = ['ID', 'participant_id']\n",
    "feature_cols = emotions_cols + big5_cols + ['Locus']\n",
    "label_cols = ['DAA']"
   ]
  },
  {
   "cell_type": "code",
   "execution_count": null,
   "metadata": {},
   "outputs": [],
   "source": [
    "features = df[feature_cols]\n",
    "labels = df[label_cols]\n",
    "\n",
    "dt = DecisionTreeClassifier(criterion='gini',\n",
    "                            splitter='best',\n",
    "                            max_depth=3,\n",
    "                            min_impurity_decrease=0.01)\n",
    "\n",
    "dt.fit(features, labels)"
   ]
  },
  {
   "cell_type": "markdown",
   "metadata": {},
   "source": [
    "#### Write report: Generate a DOT file and a PNG of the decision tree"
   ]
  },
  {
   "cell_type": "code",
   "execution_count": null,
   "metadata": {},
   "outputs": [],
   "source": [
    "report_basename = f'{paradox}_decision_tree'\n",
    "\n",
    "report_dot = f'{report_basename}.dot'\n",
    "export_graphviz(dt, feature_names=feature_cols, class_names=['nonDAA', 'DAA'], label='all', rounded=True, filled=True, out_file=report_dot)\n",
    "\n",
    "report_png = f'{report_basename}.png'\n",
    "check_call(['dot', report_dot, '-Tpng', f'-o{report_png}'])"
   ]
  }
 ],
 "metadata": {
  "kernelspec": {
   "display_name": "env",
   "language": "python",
   "name": "python3"
  },
  "language_info": {
   "codemirror_mode": {
    "name": "ipython",
    "version": 3
   },
   "file_extension": ".py",
   "mimetype": "text/x-python",
   "name": "python",
   "nbconvert_exporter": "python",
   "pygments_lexer": "ipython3",
   "version": "3.10.4"
  },
  "orig_nbformat": 4
 },
 "nbformat": 4,
 "nbformat_minor": 2
}
