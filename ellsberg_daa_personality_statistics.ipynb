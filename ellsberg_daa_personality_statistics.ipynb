{
 "cells": [
  {
   "cell_type": "code",
   "execution_count": null,
   "metadata": {},
   "outputs": [],
   "source": [
    "import numpy as np\n",
    "import pandas as pd\n",
    "\n",
    "from kmeans import KMeans\n",
    "from pca import print_pca, print_nmf\n",
    "\n",
    "from data_common import EMOTIONS_FEATURES, PERSONALITY_FEATURES, DAA, SEX\n",
    "\n",
    "df = pd.read_csv('data/data_ellsberg.csv')"
   ]
  },
  {
   "cell_type": "code",
   "execution_count": null,
   "metadata": {},
   "outputs": [],
   "source": [
    "df['Sex'] = np.where(df['Sex'] == 'Male', 0, 1)\n",
    "\n",
    "df = df[PERSONALITY_FEATURES + EMOTIONS_FEATURES + [DAA, SEX]]\n",
    "\n",
    "not_daa_df = df.loc[df[DAA] == 0]\n",
    "not_daa_df = not_daa_df[PERSONALITY_FEATURES + EMOTIONS_FEATURES + [SEX]]\n",
    "\n",
    "daa_df = df.loc[df[DAA] == 1]\n",
    "daa_df = daa_df[PERSONALITY_FEATURES + EMOTIONS_FEATURES + [SEX]]"
   ]
  },
  {
   "cell_type": "code",
   "execution_count": null,
   "metadata": {},
   "outputs": [],
   "source": [
    "all_mean = df.mean(axis=0)\n",
    "all_std = df.std(axis=0)\n",
    "\n",
    "not_daa_mean = not_daa_df.mean(axis=0)\n",
    "not_daa_std = not_daa_df.std(axis=0)\n",
    "\n",
    "daa_mean = daa_df.mean(axis=0)\n",
    "daa_std = daa_df.std(axis=0)"
   ]
  },
  {
   "cell_type": "code",
   "execution_count": null,
   "metadata": {},
   "outputs": [],
   "source": [
    "def to_table(not_daa, daa):\n",
    "    summary = pd.concat([not_daa, daa], axis=1)\n",
    "    summary = summary.T\n",
    "    summary.index = ['notDAA', 'DAA']\n",
    "    return summary\n",
    "\n",
    "def to_summary(mean, std):\n",
    "    values = zip(mean.index, mean, std)\n",
    "    for i, m, s in values:\n",
    "        print(f'{i}: {m:.3f}({s:.3f})')\n"
   ]
  },
  {
   "cell_type": "code",
   "execution_count": null,
   "metadata": {},
   "outputs": [],
   "source": [
    "to_summary(all_mean, all_std)"
   ]
  },
  {
   "cell_type": "code",
   "execution_count": null,
   "metadata": {},
   "outputs": [],
   "source": [
    "to_summary(not_daa_mean, not_daa_std)"
   ]
  },
  {
   "cell_type": "code",
   "execution_count": null,
   "metadata": {},
   "outputs": [],
   "source": [
    "to_summary(daa_mean, daa_std)"
   ]
  },
  {
   "cell_type": "code",
   "execution_count": null,
   "metadata": {},
   "outputs": [],
   "source": [
    "(daa_mean - not_daa_mean) / daa_mean"
   ]
  },
  {
   "cell_type": "code",
   "execution_count": null,
   "metadata": {},
   "outputs": [],
   "source": [
    "(not_daa_mean - daa_mean) / not_daa_mean"
   ]
  },
  {
   "cell_type": "code",
   "execution_count": null,
   "metadata": {},
   "outputs": [],
   "source": [
    "person_df = df[PERSONALITY_FEATURES + [DAA]]\n",
    "person_km = KMeans(person_df, 1, labels=PERSONALITY_FEATURES, random_state=69)"
   ]
  },
  {
   "cell_type": "code",
   "execution_count": null,
   "metadata": {},
   "outputs": [],
   "source": [
    "print_pca(person_df, person_km)"
   ]
  },
  {
   "cell_type": "code",
   "execution_count": null,
   "metadata": {},
   "outputs": [],
   "source": [
    "print_nmf(person_df, person_km)"
   ]
  },
  {
   "cell_type": "code",
   "execution_count": null,
   "metadata": {},
   "outputs": [],
   "source": [
    "emotions_df = df[EMOTIONS_FEATURES + [DAA]]\n",
    "emotions_km = KMeans(emotions_df, 1, labels=EMOTIONS_FEATURES, random_state=69)"
   ]
  },
  {
   "cell_type": "code",
   "execution_count": null,
   "metadata": {},
   "outputs": [],
   "source": [
    "print_pca(emotions_df, emotions_km)"
   ]
  },
  {
   "cell_type": "code",
   "execution_count": null,
   "metadata": {},
   "outputs": [],
   "source": [
    "print_nmf(emotions_df, emotions_km)"
   ]
  }
 ],
 "metadata": {
  "kernelspec": {
   "display_name": "env",
   "language": "python",
   "name": "python3"
  },
  "language_info": {
   "codemirror_mode": {
    "name": "ipython",
    "version": 3
   },
   "file_extension": ".py",
   "mimetype": "text/x-python",
   "name": "python",
   "nbconvert_exporter": "python",
   "pygments_lexer": "ipython3",
   "version": "3.10.4"
  },
  "orig_nbformat": 4
 },
 "nbformat": 4,
 "nbformat_minor": 2
}
