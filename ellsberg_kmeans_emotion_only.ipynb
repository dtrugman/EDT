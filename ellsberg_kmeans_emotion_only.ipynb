{
 "cells": [
  {
   "cell_type": "code",
   "execution_count": null,
   "metadata": {},
   "outputs": [],
   "source": [
    "import pandas as pd\n",
    "import matplotlib.pyplot as plt\n",
    "\n",
    "from kmeans import KMeans\n",
    "from kmeans_printer import print_per_game_kmeans\n",
    "from pca import print_pca\n",
    "\n",
    "from symmetric_uncertainty import SUT\n",
    "\n",
    "from data_common import EMOTIONS_FEATURES, EMOTIONS_LABELS, DAA, CLUSTER\n",
    "\n",
    "df = pd.read_csv('data/data_ellsberg.csv')\n",
    "df = df[EMOTIONS_FEATURES + [DAA]]"
   ]
  },
  {
   "cell_type": "code",
   "execution_count": null,
   "metadata": {},
   "outputs": [],
   "source": [
    "# K=6 -> seed=69 -> SU = 0.098\n",
    "# K=5 -> seed=14 -> SU = 0.056\n",
    "# K=4 -> seed=20 -> SU = 0.096\n",
    "# K=3 -> seed=18 -> SU = 0.081\n",
    "\n",
    "random_state = 18\n",
    "K_range = range(2, 11)\n",
    "K = 3"
   ]
  },
  {
   "cell_type": "code",
   "execution_count": null,
   "metadata": {},
   "outputs": [],
   "source": [
    "sils = [KMeans(df[EMOTIONS_FEATURES], k, random_state=random_state).silhouette for k in K_range]\n",
    "plt.plot(K_range, sils, 'bx-')\n",
    "plt.xlabel('k')\n",
    "plt.ylabel('silhouette')\n",
    "plt.show()\n",
    "\n",
    "# Typically, mean silhouette over 0.6 is considered a \"good\" clustering solution"
   ]
  },
  {
   "cell_type": "code",
   "execution_count": null,
   "metadata": {},
   "outputs": [],
   "source": [
    "K=3\n",
    "km = KMeans(df[EMOTIONS_FEATURES], K, random_state=random_state)\n",
    "\n",
    "#print('Silhouette:', km.silhouette, '\\n')\n",
    "\n",
    "#print(100 * (km.centroids[0] - km.centroids[1]) / km.centroids[1])\n",
    "#print(100 * (km.centroids[0] - km.centroids[2]) / km.centroids[2])\n",
    "\n",
    "print_per_game_kmeans(km, EMOTIONS_LABELS, plot_graph=True)"
   ]
  },
  {
   "cell_type": "code",
   "execution_count": null,
   "metadata": {},
   "outputs": [],
   "source": [
    "print_pca(df, km)"
   ]
  },
  {
   "cell_type": "code",
   "execution_count": null,
   "metadata": {},
   "outputs": [],
   "source": [
    "df[CLUSTER] = km.labels\n",
    "print(SUT(df))"
   ]
  }
 ],
 "metadata": {
  "kernelspec": {
   "display_name": "env",
   "language": "python",
   "name": "python3"
  },
  "language_info": {
   "codemirror_mode": {
    "name": "ipython",
    "version": 3
   },
   "file_extension": ".py",
   "mimetype": "text/x-python",
   "name": "python",
   "nbconvert_exporter": "python",
   "pygments_lexer": "ipython3",
   "version": "3.10.4"
  },
  "orig_nbformat": 4
 },
 "nbformat": 4,
 "nbformat_minor": 2
}
