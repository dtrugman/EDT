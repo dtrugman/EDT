{
 "cells": [
  {
   "cell_type": "code",
   "execution_count": null,
   "metadata": {},
   "outputs": [],
   "source": [
    "import pandas as pd\n",
    "import matplotlib.pyplot as plt\n",
    "\n",
    "from kmeans import KMeans\n",
    "from kmeans_printer import print_per_game_kmeans\n",
    "from pca import print_pca\n",
    "\n",
    "from symmetric_uncertainty import SUT\n",
    "\n",
    "from data_common import PERSONALITY_FEATURES, PERSONALITY_FEATURES_NO_LOCUS, EMOTIONS_FEATURES, EMOTIONS_LABELS, DAA, CLUSTER\n",
    "\n",
    "#paradox = 'ellsberg'\n",
    "paradox = 'allais'\n",
    "df = pd.read_csv(f'data/data_{paradox}.csv')\n",
    "\n",
    "df = df[PERSONALITY_FEATURES + EMOTIONS_FEATURES + [DAA]]"
   ]
  },
  {
   "cell_type": "markdown",
   "metadata": {},
   "source": [
    "#### Step 1: Find optimal K when clustering by personality traits"
   ]
  },
  {
   "cell_type": "code",
   "execution_count": null,
   "metadata": {},
   "outputs": [],
   "source": [
    "random_state = 18\n",
    "K_range = range(2, 11)\n",
    "sils = [KMeans(df, k, features=PERSONALITY_FEATURES, random_state=random_state).silhouette for k in K_range]\n",
    "plt.plot(K_range, sils, 'bx-')\n",
    "plt.xlabel('k')\n",
    "plt.ylabel('silhouettes')\n",
    "plt.show()"
   ]
  },
  {
   "cell_type": "markdown",
   "metadata": {},
   "source": [
    "#### Use optimal K (= 2) and plot personality cluster centroids"
   ]
  },
  {
   "cell_type": "code",
   "execution_count": null,
   "metadata": {},
   "outputs": [],
   "source": [
    "K = 2\n",
    "km = KMeans(df, K, features=PERSONALITY_FEATURES)\n",
    "for cf, c0, c1 in zip(PERSONALITY_FEATURES, km.centroids[0], km.centroids[1]):\n",
    "    print(f'{cf:19} {c0:10.3} {c1:10.3}')\n",
    "print()\n",
    "\n",
    "print_per_game_kmeans(km, [PERSONALITY_FEATURES_NO_LOCUS], ylim=None, plot_graph=True)"
   ]
  },
  {
   "cell_type": "markdown",
   "metadata": {},
   "source": [
    "#### Step 2: For each of the clusters we found, perform second level clustering based on emotions"
   ]
  },
  {
   "cell_type": "code",
   "execution_count": null,
   "metadata": {},
   "outputs": [],
   "source": [
    "PERSONALITY_CLUSTER = 'PersonalityCluster'\n",
    "df[PERSONALITY_CLUSTER] = km.labels\n",
    "print(df[PERSONALITY_CLUSTER].value_counts())"
   ]
  },
  {
   "cell_type": "code",
   "execution_count": null,
   "metadata": {},
   "outputs": [],
   "source": [
    "print_pca(df, features=km.features, labels=km.labels)"
   ]
  },
  {
   "cell_type": "code",
   "execution_count": null,
   "metadata": {},
   "outputs": [],
   "source": [
    "df[CLUSTER] = df[PERSONALITY_CLUSTER]\n",
    "print(SUT(df))"
   ]
  },
  {
   "cell_type": "code",
   "execution_count": null,
   "metadata": {},
   "outputs": [],
   "source": [
    "# Use same global properties for KMeans search\n",
    "K_range = range(2, 11)"
   ]
  },
  {
   "cell_type": "markdown",
   "metadata": {},
   "source": [
    "#### Emotion-based clusters within personality cluster #0"
   ]
  },
  {
   "cell_type": "code",
   "execution_count": null,
   "metadata": {},
   "outputs": [],
   "source": [
    "df0 = df[df[PERSONALITY_CLUSTER] == 0].copy()\n",
    "sils = [KMeans(df0, k, features=EMOTIONS_FEATURES, random_state=random_state).silhouette for k in K_range]\n",
    "print(sils)\n",
    "plt.plot(K_range, sils, 'bx-')\n",
    "plt.xlabel('k')\n",
    "plt.ylabel('silhouette')\n",
    "plt.show()"
   ]
  },
  {
   "cell_type": "code",
   "execution_count": null,
   "metadata": {},
   "outputs": [],
   "source": [
    "km = KMeans(df0, K, features=EMOTIONS_FEATURES, random_state=random_state)\n",
    "print_per_game_kmeans(km, EMOTIONS_LABELS, plot_graph=True)"
   ]
  },
  {
   "cell_type": "code",
   "execution_count": null,
   "metadata": {},
   "outputs": [],
   "source": [
    "df0[CLUSTER] = km.labels\n",
    "print(SUT(df0))"
   ]
  },
  {
   "cell_type": "markdown",
   "metadata": {},
   "source": [
    "#### Emotion-based clusters within personality cluster #1"
   ]
  },
  {
   "cell_type": "code",
   "execution_count": null,
   "metadata": {},
   "outputs": [],
   "source": [
    "df1 = df[df[PERSONALITY_CLUSTER] == 1].copy()\n",
    "sils = [KMeans(df1, k, features=EMOTIONS_FEATURES, random_state=random_state).silhouette for k in K_range]\n",
    "print(sils)\n",
    "plt.plot(K_range, sils, 'bx-')\n",
    "plt.xlabel('k')\n",
    "plt.ylabel('silhouette')\n",
    "plt.show()"
   ]
  },
  {
   "cell_type": "code",
   "execution_count": null,
   "metadata": {},
   "outputs": [],
   "source": [
    "km = KMeans(df1, K, features=EMOTIONS_FEATURES, random_state=random_state)\n",
    "print_per_game_kmeans(km, EMOTIONS_LABELS, plot_graph=True)"
   ]
  },
  {
   "cell_type": "code",
   "execution_count": null,
   "metadata": {},
   "outputs": [],
   "source": [
    "df1[CLUSTER] = km.labels\n",
    "print(SUT(df1))"
   ]
  }
 ],
 "metadata": {
  "kernelspec": {
   "display_name": "env",
   "language": "python",
   "name": "python3"
  },
  "language_info": {
   "codemirror_mode": {
    "name": "ipython",
    "version": 3
   },
   "file_extension": ".py",
   "mimetype": "text/x-python",
   "name": "python",
   "nbconvert_exporter": "python",
   "pygments_lexer": "ipython3",
   "version": "3.10.4"
  },
  "orig_nbformat": 4
 },
 "nbformat": 4,
 "nbformat_minor": 2
}
