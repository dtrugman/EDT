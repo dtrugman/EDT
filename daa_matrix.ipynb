{
 "cells": [
  {
   "cell_type": "code",
   "execution_count": null,
   "metadata": {},
   "outputs": [],
   "source": [
    "import pandas as pd\n",
    "\n",
    "#paradox = 'ellsberg'\n",
    "paradox = 'allais'\n",
    "df = pd.read_csv(f'data/data_{paradox}.csv')"
   ]
  },
  {
   "cell_type": "code",
   "execution_count": null,
   "metadata": {},
   "outputs": [],
   "source": [
    "# Choose only columns that are relevant to the choice\n",
    "choice_df = df[['ChoiceGame1', 'ChoiceGame2', 'DAA']]\n",
    "choice_df.value_counts()"
   ]
  },
  {
   "cell_type": "code",
   "execution_count": null,
   "metadata": {},
   "outputs": [],
   "source": [
    "\n",
    "choice_table = pd.crosstab(index=df['ChoiceGame2'], columns=df['ChoiceGame1'])\n",
    "choice_table"
   ]
  },
  {
   "cell_type": "markdown",
   "metadata": {},
   "source": [
    "#### Note: Demonstration of ambiguity aversion means choosing choice 1 in the 1st game and choice 2 in the 2nd game"
   ]
  }
 ],
 "metadata": {
  "kernelspec": {
   "display_name": "env",
   "language": "python",
   "name": "python3"
  },
  "language_info": {
   "codemirror_mode": {
    "name": "ipython",
    "version": 3
   },
   "file_extension": ".py",
   "mimetype": "text/x-python",
   "name": "python",
   "nbconvert_exporter": "python",
   "pygments_lexer": "ipython3",
   "version": "3.10.4"
  },
  "orig_nbformat": 4
 },
 "nbformat": 4,
 "nbformat_minor": 2
}
