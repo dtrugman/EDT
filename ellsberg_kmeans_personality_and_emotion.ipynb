{
 "cells": [
  {
   "cell_type": "code",
   "execution_count": null,
   "metadata": {},
   "outputs": [],
   "source": [
    "import pandas as pd\n",
    "from sklearn.metrics import silhouette_score\n",
    "from sklearn.cluster import KMeans\n",
    "import matplotlib.pyplot as plt\n",
    "\n",
    "df = pd.read_csv('data/data_ellsberg.csv')"
   ]
  },
  {
   "cell_type": "code",
   "execution_count": null,
   "metadata": {},
   "outputs": [],
   "source": [
    "emotions = [\n",
    "    'Hopeful', \n",
    "    'Curiosity', \n",
    "    'Enlightenment',\n",
    "    'Thrilled', \n",
    "    'Anticipatory',\n",
    "    'Satisfied'\n",
    "]\n",
    "\n",
    "feature_cols = ['Openess','Conciensiousness','Extroversion','Agreability','Stability','Locus']\n",
    "\n",
    "x_labels = []\n",
    "emotions_cols = []\n",
    "for x in ['1A', '1B', '2A', '2B']:\n",
    "    emotions_cols += [f'{emotion}{x}' for emotion in emotions]\n",
    "    x_labels.append([f'{emotion[:4]}{x}' for emotion in emotions])\n",
    "\n",
    "df = df[feature_cols + emotions_cols]"
   ]
  },
  {
   "cell_type": "markdown",
   "metadata": {},
   "source": [
    "#### Step 1: Find optimal K when clustering by personality traits"
   ]
  },
  {
   "cell_type": "code",
   "execution_count": null,
   "metadata": {},
   "outputs": [],
   "source": [
    "K_range = range(2, 11)\n",
    "distance_metric='euclidean'"
   ]
  },
  {
   "cell_type": "code",
   "execution_count": null,
   "metadata": {},
   "outputs": [],
   "source": [
    "def calc_silhouette(df, preds):\n",
    "    return silhouette_score(df, preds, metric=distance_metric)"
   ]
  },
  {
   "cell_type": "code",
   "execution_count": null,
   "metadata": {},
   "outputs": [],
   "source": [
    "def build_kmeans(points, k):\n",
    "    clusterer = KMeans(n_clusters=k, n_init='auto')\n",
    "    preds = clusterer.fit_predict(points)\n",
    "    return clusterer, preds"
   ]
  },
  {
   "cell_type": "code",
   "execution_count": null,
   "metadata": {},
   "outputs": [],
   "source": [
    "sils = []\n",
    "for k in K_range:\n",
    "    clusterer, preds = build_kmeans(df[feature_cols], k)\n",
    "    sils.append(calc_silhouette(df[feature_cols], preds))\n",
    "\n",
    "plt.plot(K_range, sils, 'bx-')\n",
    "plt.xlabel('k')\n",
    "plt.ylabel('silheuettes')\n",
    "#plt.title('Sillheuette score per number of clusters (k)')\n",
    "plt.show()\n",
    "\n",
    "# Typically, mean silhouette over 0.6 is considered a \"good\" clustering solution\n"
   ]
  },
  {
   "cell_type": "markdown",
   "metadata": {},
   "source": [
    "#### Use optimal K (= 2)"
   ]
  },
  {
   "cell_type": "code",
   "execution_count": null,
   "metadata": {},
   "outputs": [],
   "source": [
    "K = 2"
   ]
  },
  {
   "cell_type": "markdown",
   "metadata": {},
   "source": [
    "#### Step 2: For each of the clusters we found, perform second level clustering based on emotions"
   ]
  },
  {
   "cell_type": "code",
   "execution_count": null,
   "metadata": {},
   "outputs": [],
   "source": [
    "feature_clusterer, preds = build_kmeans(df[feature_cols], K)\n",
    "df['fcluster'] = feature_clusterer.labels_\n",
    "df = df.drop(feature_cols, axis=1)"
   ]
  },
  {
   "cell_type": "code",
   "execution_count": null,
   "metadata": {},
   "outputs": [],
   "source": [
    "print(df.head())\n",
    "print(df['fcluster'].value_counts())"
   ]
  },
  {
   "cell_type": "code",
   "execution_count": null,
   "metadata": {},
   "outputs": [],
   "source": [
    "def show_results(clusterer, k, print_labels=False, print_centers=False, plot_graph=False):\n",
    "    if print_labels:\n",
    "        print('labels:', clusterer.labels_, '\\n') \n",
    "\n",
    "    centers = clusterer.cluster_centers_\n",
    "\n",
    "    if print_centers:\n",
    "        print('centroids:')\n",
    "        for i in range(k):\n",
    "            print(i,':',centers[i,:],'\\n')\n",
    "\n",
    "    if plot_graph:\n",
    "        games_count = len(x_labels)\n",
    "        labels_count = len(emotions)\n",
    "        _, axs = plt.subplots(games_count, figsize=(10, 10))\n",
    "        for ig in range(games_count):\n",
    "            graph_labels = x_labels[ig]\n",
    "            graph_centers = centers[:,ig*labels_count:(ig+1)*labels_count]\n",
    "            for ik in range(k):\n",
    "                axs[ig].plot(graph_labels, graph_centers[ik,:], label=f'Emotion cluster #{ik}')\n",
    "                axs[ig].legend(loc='upper right')"
   ]
  },
  {
   "cell_type": "code",
   "execution_count": null,
   "metadata": {},
   "outputs": [],
   "source": [
    "def show_k_results(df, k, plot_graph=True):\n",
    "    k_df = df[df['fcluster'] == k].drop('fcluster', axis=1)\n",
    "    emotion_clusterer, _ = build_kmeans(k_df, K)\n",
    "    show_results(emotion_clusterer, K, plot_graph=plot_graph)"
   ]
  },
  {
   "cell_type": "markdown",
   "metadata": {},
   "source": [
    "#### Emotion-based clusters within personality cluster #1"
   ]
  },
  {
   "cell_type": "code",
   "execution_count": null,
   "metadata": {},
   "outputs": [],
   "source": [
    "show_k_results(df, 0)"
   ]
  },
  {
   "cell_type": "markdown",
   "metadata": {},
   "source": [
    "#### Emotion-based clusters within personality cluster #2"
   ]
  },
  {
   "cell_type": "code",
   "execution_count": null,
   "metadata": {},
   "outputs": [],
   "source": [
    "show_k_results(df, 1)"
   ]
  }
 ],
 "metadata": {
  "kernelspec": {
   "display_name": "env",
   "language": "python",
   "name": "python3"
  },
  "language_info": {
   "codemirror_mode": {
    "name": "ipython",
    "version": 3
   },
   "file_extension": ".py",
   "mimetype": "text/x-python",
   "name": "python",
   "nbconvert_exporter": "python",
   "pygments_lexer": "ipython3",
   "version": "3.10.4"
  },
  "orig_nbformat": 4
 },
 "nbformat": 4,
 "nbformat_minor": 2
}
